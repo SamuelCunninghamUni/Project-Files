{
 "cells": [
  {
   "cell_type": "code",
   "execution_count": 1,
   "metadata": {},
   "outputs": [],
   "source": [
    "import dill\n",
    "dill.load_session(\"Pixel_Value_Raw_Distance.db\")"
   ]
  },
  {
   "cell_type": "code",
   "execution_count": 2,
   "metadata": {},
   "outputs": [],
   "source": [
    "import numpy as np \n",
    "from PIL import Image\n",
    "import os\n",
    "from sklearn.model_selection import train_test_split\n",
    "import matplotlib.pyplot as plt"
   ]
  },
  {
   "cell_type": "code",
   "execution_count": 3,
   "metadata": {},
   "outputs": [],
   "source": [
    "#IMAGE SIZE CONSTANTS\n",
    "IMAGE_WIDTH = 32\n",
    "IMAGE_HEIGHT = 32\n",
    "TOTAL_PIXELS = IMAGE_WIDTH * IMAGE_HEIGHT\n",
    "\n",
    "#DATASET CONSTANTS\n",
    "DATASET = \"MPEG7\"\n",
    "\n",
    "#TESTING METRIC CONSTANTS\n",
    "K_START_RANGE, K_END_RANGE = 1,20\n",
    "K_INCREMENT = 1\n",
    "\n",
    "THRESHOLD_START_RANGE, THRESHOLD_END_RANGE = 0.0, 0.9\n",
    "THRESHOLD_INCREMENT = 0.1\n"
   ]
  },
  {
   "cell_type": "code",
   "execution_count": 4,
   "metadata": {},
   "outputs": [],
   "source": [
    "def load_image_from_folder(folder):\n",
    "    images = []\n",
    "    filenames = []\n",
    "    y = []\n",
    "    category, idx = \"none\", 0\n",
    "    for filename in sorted(os.listdir(folder)):\n",
    "        if filename.endswith(\".gif\"):\n",
    "            image = Image.open(os.path.join(folder, filename))\n",
    "            image = image.resize((32, 32), Image.ANTIALIAS)\n",
    "            if image is not None:\n",
    "                images.append(image)\n",
    "                filenames.append(filename)\n",
    "                if filename.startswith(category):\n",
    "                    y.append(idx)\n",
    "                else:\n",
    "                    category = filename.split('-')[0]\n",
    "                    idx = idx + 1\n",
    "                    y.append(idx)                    \n",
    "    return images, filenames, y"
   ]
  },
  {
   "cell_type": "code",
   "execution_count": 5,
   "metadata": {},
   "outputs": [],
   "source": [
    "def load_images(dataset):\n",
    "    folder = \"\\\\\" + dataset\n",
    "    full_path = os.getcwd() + folder\n",
    "    images, filenames, y = load_image_from_folder(full_path)\n",
    "\n",
    "    return images, filenames, y"
   ]
  },
  {
   "cell_type": "code",
   "execution_count": 6,
   "metadata": {},
   "outputs": [],
   "source": [
    "from IPython.display import display\n",
    "\n",
    "#Display Images From Start to Stop\n",
    "def display_images(start, stop):\n",
    "    for i in range(start, stop):\n",
    "        display(images[i])"
   ]
  },
  {
   "cell_type": "code",
   "execution_count": 7,
   "metadata": {},
   "outputs": [],
   "source": [
    "def convert_images_to_2Darr(images, y):\n",
    "    tmp = []\n",
    "    for image in images:\n",
    "        im = np.asarray(image)\n",
    "        im = im.reshape((1024,))\n",
    "        tmp.append(im)\n",
    "    imgs_array = np.array(tmp)\n",
    "    y = np.array(y)\n",
    "    return imgs_array, y"
   ]
  },
  {
   "cell_type": "code",
   "execution_count": 8,
   "metadata": {},
   "outputs": [],
   "source": [
    "def get_label_names(filenames):\n",
    "    names = []\n",
    "\n",
    "    for name in filenames:\n",
    "        names.append(name.split('-')[0])\n",
    "\n",
    "    label_names = np.array(names)\n",
    "    return label_names\n",
    "    "
   ]
  },
  {
   "cell_type": "code",
   "execution_count": 9,
   "metadata": {},
   "outputs": [],
   "source": [
    "from sklearn.metrics.pairwise import euclidean_distances\n",
    "\n",
    "#Sort the test data based on euclidean distance calculated from the training data\n",
    "def sort_by_distance(train_data, test_data, train_names, test_names, k=10, threshold=0,image_display_num=20):\n",
    "    images_displayed = 0\n",
    "    label_amounts = pd.value_counts(train_names)\n",
    "    \n",
    "    precisions = []\n",
    "    recalls = []\n",
    "    for idx, query in enumerate(test_data):\n",
    "        query = query.reshape((1, -1))\n",
    "        D = euclidean_distances(train_data, query).squeeze()\n",
    "        index = np.argsort(D)\n",
    "        index = index[:k]\n",
    "        \n",
    "        precision, recall = calculate_precision_and_recall(index, idx, train_names, test_names, label_amounts)\n",
    "        if (precision >= threshold):\n",
    "            precisions.append(precision)\n",
    "            recalls.append(recall)\n",
    "        \n",
    "        \n",
    "        \n",
    "        tmp = [query.reshape((IMAGE_WIDTH, IMAGE_HEIGHT))]\n",
    "        for ind in index:\n",
    "            tmp.append(train_data[ind].reshape((IMAGE_WIDTH,IMAGE_HEIGHT)))\n",
    "        output = np.array(tmp)*255\n",
    "        output = output.transpose(1, 0, 2)\n",
    "        output = output.reshape((32, -1))\n",
    "        im_query = Image.fromarray(output)\n",
    "        if (images_displayed < image_display_num):\n",
    "            print(\"\\nLabel: \", test_names[idx])\n",
    "            print(\"Precisions:\", precision)\n",
    "            print(\"Recall: \", recall)\n",
    "            display(im_query)     \n",
    "            images_displayed += 1\n",
    "         \n",
    "    return precisions, recalls"
   ]
  },
  {
   "cell_type": "code",
   "execution_count": 10,
   "metadata": {},
   "outputs": [],
   "source": [
    "import pandas as pd\n",
    "def calculate_precision_and_recall(index, idx, train_names, test_names, label_amounts):\n",
    "    correct_label = test_names[idx]\n",
    "    true_positives = 0\n",
    "    false_positives = 0\n",
    "\n",
    "    for i in index:\n",
    "        if (train_names[i] == correct_label):\n",
    "            true_positives+=1\n",
    "        else:\n",
    "            false_positives+=1\n",
    "    \n",
    "    precision = true_positives/(true_positives + false_positives)\n",
    "    recall = true_positives/(label_amounts[correct_label] - true_positives + true_positives)\n",
    "    \n",
    "    return precision, recall"
   ]
  },
  {
   "cell_type": "code",
   "execution_count": 11,
   "metadata": {},
   "outputs": [],
   "source": [
    "def calculate_single_metric(k, output, threshold):\n",
    "    precisions, recalls = sort_by_distance(X_train, X_test, train_names, test_names, k, threshold, 0)\n",
    "\n",
    "    precision_avg = np.average(precisions)\n",
    "    recall_avg = np.average(recalls)\n",
    "    \n",
    "    \n",
    "    if (output):\n",
    "        print(\"\\nK = \", k)\n",
    "        print(\"Precision: \", precision_avg)\n",
    "        print(\"Recall: \",recall_avg)\n",
    "        \n",
    "      \n",
    "    return precision_avg, recall_avg"
   ]
  },
  {
   "cell_type": "code",
   "execution_count": 12,
   "metadata": {},
   "outputs": [],
   "source": [
    "#Calculate Precision and Recall for a range of k (inclusive)\n",
    "def calculate_metrics(start_range_k, end_range_k, output, threshold):\n",
    "    overall_precisions_per_k = []\n",
    "    overall_recalls_per_k = []\n",
    "    \n",
    "    for i in range (start_range_k,end_range_k+1):\n",
    "        precision, recall = calculate_single_metric(i, output, threshold)\n",
    "        overall_precisions_per_k.append(precision)\n",
    "        overall_recalls_per_k.append(recall)\n",
    "    \n",
    "    return overall_precisions_per_k, overall_recalls_per_k"
   ]
  },
  {
   "cell_type": "code",
   "execution_count": 13,
   "metadata": {},
   "outputs": [],
   "source": [
    "#Load Images\n",
    "images, filenames, y = load_images(DATASET)\n",
    "#Convert to Numpy Array\n",
    "imgs_array, y = convert_images_to_2Darr(images, y)\n",
    "#Convert Label Names\n",
    "label_names = get_label_names(filenames)\n",
    "#Split Training Data\n",
    "X_train, X_test, y_train, y_test, train_names, test_names = train_test_split(imgs_array, y, label_names, test_size=0.2, random_state=42)\n"
   ]
  },
  {
   "cell_type": "code",
   "execution_count": 14,
   "metadata": {},
   "outputs": [],
   "source": [
    "threshold = THRESHOLD_START_RANGE\n",
    "labels =[]\n",
    "averages = []\n",
    "\n",
    "#Store to plot afterwards\n",
    "precisions_per_k = []\n",
    "recalls_per_k =[]\n",
    "\n",
    "\n",
    "while (threshold <= THRESHOLD_END_RANGE):\n",
    "    labels.append(round(threshold, 1))\n",
    "    average_precisions_per_k, average_recalls_per_k= calculate_metrics(K_START_RANGE,K_END_RANGE, False, threshold)\n",
    "    threshold += THRESHOLD_INCREMENT\n",
    "    \n",
    "    #Store for plotting\n",
    "    precisions_per_k.append(average_precisions_per_k)\n",
    "    recalls_per_k.append(average_recalls_per_k)\n",
    "    \n",
    "    #Calculate and store average for given value of k\n",
    "    averages.append(np.average(average_precisions_per_k))\n",
    "    "
   ]
  },
  {
   "cell_type": "code",
   "execution_count": 35,
   "metadata": {},
   "outputs": [
    {
     "data": {
      "image/png": "[encoded data removed]",
      "text/plain": [
       "<Figure size 432x288 with 1 Axes>"
      ]
     },
     "metadata": {
      "needs_background": "light"
     },
     "output_type": "display_data"
    }
   ],
   "source": [
    "for recall, precision in zip(recalls_per_k, precisions_per_k):\n",
    "    plt.plot(recall, precision)\n",
    "\n",
    "\n",
    "plt.title(\"Pixel Value_Raw_Distance (k=1-20)\")\n",
    "plt.xlabel(\"Recall\")\n",
    "plt.ylabel(\"Precision\")\n",
    "plt.rcParams['legend.title_fontsize'] = 'x-small'\n",
    "\n",
    "plt.legend(labels, loc=0, fontsize ='x-small', title='Threshold')\n",
    "plt.savefig('../Graphs/Pixel_Value_Raw_Distance.png', facecolor='white')\n",
    "plt.show()\n",
    "plt.close()"
   ]
  },
  {
   "cell_type": "code",
   "execution_count": 41,
   "metadata": {},
   "outputs": [
    {
     "name": "stdout",
     "output_type": "stream",
     "text": [
      "\n",
      "Label:  octopus\n",
      "Precisions: 0.1\n",
      "Recall:  0.07692307692307693\n"
     ]
    },
    {
     "data": {
      "image/png": "[encoded data removed]",
      "text/plain": [
       "<PIL.Image.Image image mode=L size=352x32 at 0x24F02C9FEB0>"
      ]
     },
     "metadata": {},
     "output_type": "display_data"
    },
    {
     "name": "stdout",
     "output_type": "stream",
     "text": [
      "\n",
      "Label:  hat\n",
      "Precisions: 0.9\n",
      "Recall:  0.6\n"
     ]
    },
    {
     "data": {
      "image/png": "[encoded data removed]",
      "text/plain": [
       "<PIL.Image.Image image mode=L size=352x32 at 0x24F02C9FF70>"
      ]
     },
     "metadata": {},
     "output_type": "display_data"
    },
    {
     "name": "stdout",
     "output_type": "stream",
     "text": [
      "\n",
      "Label:  Glas\n",
      "Precisions: 1.0\n",
      "Recall:  0.7142857142857143\n"
     ]
    },
    {
     "data": {
      "image/png": "[encoded data removed]",
      "text/plain": [
       "<PIL.Image.Image image mode=L size=352x32 at 0x24F02C9FFD0>"
      ]
     },
     "metadata": {},
     "output_type": "display_data"
    },
    {
     "name": "stdout",
     "output_type": "stream",
     "text": [
      "\n",
      "Label:  spoon\n",
      "Precisions: 0.2\n",
      "Recall:  0.125\n"
     ]
    },
    {
     "data": {
      "image/png": "[encoded data removed]",
      "text/plain": [
       "<PIL.Image.Image image mode=L size=352x32 at 0x24F02C9FF70>"
      ]
     },
     "metadata": {},
     "output_type": "display_data"
    },
    {
     "name": "stdout",
     "output_type": "stream",
     "text": [
      "\n",
      "Label:  device9\n",
      "Precisions: 1.0\n",
      "Recall:  0.6666666666666666\n"
     ]
    },
    {
     "data": {
      "image/png": "[encoded data removed]",
      "text/plain": [
       "<PIL.Image.Image image mode=L size=352x32 at 0x24F02C9FFA0>"
      ]
     },
     "metadata": {},
     "output_type": "display_data"
    },
    {
     "name": "stdout",
     "output_type": "stream",
     "text": [
      "\n",
      "Label:  cattle\n",
      "Precisions: 0.4\n",
      "Recall:  0.3333333333333333\n"
     ]
    },
    {
     "data": {
      "image/png": "[encoded data removed]",
      "text/plain": [
       "<PIL.Image.Image image mode=L size=352x32 at 0x24F02C9FEB0>"
      ]
     },
     "metadata": {},
     "output_type": "display_data"
    },
    {
     "name": "stdout",
     "output_type": "stream",
     "text": [
      "\n",
      "Label:  fly\n",
      "Precisions: 0.0\n",
      "Recall:  0.0\n"
     ]
    },
    {
     "data": {
      "image/png": "[encoded data removed]",
      "text/plain": [
       "<PIL.Image.Image image mode=L size=352x32 at 0x24F02C9FD60>"
      ]
     },
     "metadata": {},
     "output_type": "display_data"
    },
    {
     "name": "stdout",
     "output_type": "stream",
     "text": [
      "\n",
      "Label:  horseshoe\n",
      "Precisions: 0.3\n",
      "Recall:  0.2\n"
     ]
    },
    {
     "data": {
      "image/png": "[encoded data removed]",
      "text/plain": [
       "<PIL.Image.Image image mode=L size=352x32 at 0x24F02C9FFD0>"
      ]
     },
     "metadata": {},
     "output_type": "display_data"
    },
    {
     "name": "stdout",
     "output_type": "stream",
     "text": [
      "\n",
      "Label:  cattle\n",
      "Precisions: 0.3\n",
      "Recall:  0.25\n"
     ]
    },
    {
     "data": {
      "image/png": "[encoded data removed]",
      "text/plain": [
       "<PIL.Image.Image image mode=L size=352x32 at 0x24F02C9FB50>"
      ]
     },
     "metadata": {},
     "output_type": "display_data"
    },
    {
     "name": "stdout",
     "output_type": "stream",
     "text": [
      "\n",
      "Label:  car\n",
      "Precisions: 1.0\n",
      "Recall:  0.5882352941176471\n"
     ]
    },
    {
     "data": {
      "image/png": "[encoded data removed]",
      "text/plain": [
       "<PIL.Image.Image image mode=L size=352x32 at 0x24F02C9FCA0>"
      ]
     },
     "metadata": {},
     "output_type": "display_data"
    },
    {
     "name": "stdout",
     "output_type": "stream",
     "text": [
      "\n",
      "Label:  Comma\n",
      "Precisions: 1.0\n",
      "Recall:  0.6666666666666666\n"
     ]
    },
    {
     "data": {
      "image/png": "[encoded data removed]",
      "text/plain": [
       "<PIL.Image.Image image mode=L size=352x32 at 0x24F02C9FEB0>"
      ]
     },
     "metadata": {},
     "output_type": "display_data"
    },
    {
     "name": "stdout",
     "output_type": "stream",
     "text": [
      "\n",
      "Label:  device8\n",
      "Precisions: 0.9\n",
      "Recall:  0.5625\n"
     ]
    },
    {
     "data": {
      "image/png": "[encoded data removed]",
      "text/plain": [
       "<PIL.Image.Image image mode=L size=352x32 at 0x24F02C9FFA0>"
      ]
     },
     "metadata": {},
     "output_type": "display_data"
    },
    {
     "name": "stdout",
     "output_type": "stream",
     "text": [
      "\n",
      "Label:  crown\n",
      "Precisions: 0.7\n",
      "Recall:  0.4117647058823529\n"
     ]
    },
    {
     "data": {
      "image/png": "[encoded data removed]",
      "text/plain": [
       "<PIL.Image.Image image mode=L size=352x32 at 0x24F02C9FF70>"
      ]
     },
     "metadata": {},
     "output_type": "display_data"
    },
    {
     "name": "stdout",
     "output_type": "stream",
     "text": [
      "\n",
      "Label:  device5\n",
      "Precisions: 1.0\n",
      "Recall:  0.7142857142857143\n"
     ]
    },
    {
     "data": {
      "image/png": "[encoded data removed]",
      "text/plain": [
       "<PIL.Image.Image image mode=L size=352x32 at 0x24F02C9FFA0>"
      ]
     },
     "metadata": {},
     "output_type": "display_data"
    },
    {
     "name": "stdout",
     "output_type": "stream",
     "text": [
      "\n",
      "Label:  HCircle\n",
      "Precisions: 1.0\n",
      "Recall:  0.7142857142857143\n"
     ]
    },
    {
     "data": {
      "image/png": "[encoded data removed]",
      "text/plain": [
       "<PIL.Image.Image image mode=L size=352x32 at 0x24F02C9FCA0>"
      ]
     },
     "metadata": {},
     "output_type": "display_data"
    },
    {
     "name": "stdout",
     "output_type": "stream",
     "text": [
      "\n",
      "Label:  brick\n",
      "Precisions: 0.6\n",
      "Recall:  0.4\n"
     ]
    },
    {
     "data": {
      "image/png": "[encoded data removed]",
      "text/plain": [
       "<PIL.Image.Image image mode=L size=352x32 at 0x24F02C9FF70>"
      ]
     },
     "metadata": {},
     "output_type": "display_data"
    },
    {
     "name": "stdout",
     "output_type": "stream",
     "text": [
      "\n",
      "Label:  device6\n",
      "Precisions: 1.0\n",
      "Recall:  0.5555555555555556\n"
     ]
    },
    {
     "data": {
      "image/png": "[encoded data removed]",
      "text/plain": [
       "<PIL.Image.Image image mode=L size=352x32 at 0x24F02C9FCA0>"
      ]
     },
     "metadata": {},
     "output_type": "display_data"
    },
    {
     "name": "stdout",
     "output_type": "stream",
     "text": [
      "\n",
      "Label:  flatfish\n",
      "Precisions: 1.0\n",
      "Recall:  0.7142857142857143\n"
     ]
    },
    {
     "data": {
      "image/png": "[encoded data removed]",
      "text/plain": [
       "<PIL.Image.Image image mode=L size=352x32 at 0x24F02C9FD60>"
      ]
     },
     "metadata": {},
     "output_type": "display_data"
    },
    {
     "name": "stdout",
     "output_type": "stream",
     "text": [
      "\n",
      "Label:  chopper\n",
      "Precisions: 0.9\n",
      "Recall:  0.8181818181818182\n"
     ]
    },
    {
     "data": {
      "image/png": "[encoded data removed]",
      "text/plain": [
       "<PIL.Image.Image image mode=L size=352x32 at 0x24F02C9FEB0>"
      ]
     },
     "metadata": {},
     "output_type": "display_data"
    },
    {
     "name": "stdout",
     "output_type": "stream",
     "text": [
      "\n",
      "Label:  shoe\n",
      "Precisions: 1.0\n",
      "Recall:  0.5555555555555556\n"
     ]
    },
    {
     "data": {
      "image/png": "[encoded data removed]",
      "text/plain": [
       "<PIL.Image.Image image mode=L size=352x32 at 0x24F02C9FFD0>"
      ]
     },
     "metadata": {},
     "output_type": "display_data"
    },
    {
     "name": "stdout",
     "output_type": "stream",
     "text": [
      "\n",
      "Label:  cup\n",
      "Precisions: 0.9\n",
      "Recall:  0.5625\n"
     ]
    },
    {
     "data": {
      "image/png": "[encoded data removed]",
      "text/plain": [
       "<PIL.Image.Image image mode=L size=352x32 at 0x24F02C9FEB0>"
      ]
     },
     "metadata": {},
     "output_type": "display_data"
    },
    {
     "name": "stdout",
     "output_type": "stream",
     "text": [
      "\n",
      "Label:  HCircle\n",
      "Precisions: 1.0\n",
      "Recall:  0.7142857142857143\n"
     ]
    },
    {
     "data": {
      "image/png": "[encoded data removed]",
      "text/plain": [
       "<PIL.Image.Image image mode=L size=352x32 at 0x24F02C9FD60>"
      ]
     },
     "metadata": {},
     "output_type": "display_data"
    },
    {
     "name": "stdout",
     "output_type": "stream",
     "text": [
      "\n",
      "Label:  device5\n",
      "Precisions: 1.0\n",
      "Recall:  0.7142857142857143\n"
     ]
    },
    {
     "data": {
      "image/png": "[encoded data removed]",
      "text/plain": [
       "<PIL.Image.Image image mode=L size=352x32 at 0x24F02C9FB50>"
      ]
     },
     "metadata": {},
     "output_type": "display_data"
    },
    {
     "name": "stdout",
     "output_type": "stream",
     "text": [
      "\n",
      "Label:  stef\n",
      "Precisions: 1.0\n",
      "Recall:  0.5555555555555556\n"
     ]
    },
    {
     "data": {
      "image/png": "[encoded data removed]",
      "text/plain": [
       "<PIL.Image.Image image mode=L size=352x32 at 0x24F02C9FEB0>"
      ]
     },
     "metadata": {},
     "output_type": "display_data"
    },
    {
     "name": "stdout",
     "output_type": "stream",
     "text": [
      "\n",
      "Label:  lmfish\n",
      "Precisions: 0.1\n",
      "Recall:  0.058823529411764705\n"
     ]
    },
    {
     "data": {
      "image/png": "[encoded data removed]",
      "text/plain": [
       "<PIL.Image.Image image mode=L size=352x32 at 0x24F02C9FD60>"
      ]
     },
     "metadata": {},
     "output_type": "display_data"
    },
    {
     "name": "stdout",
     "output_type": "stream",
     "text": [
      "\n",
      "Label:  bell\n",
      "Precisions: 0.0\n",
      "Recall:  0.0\n"
     ]
    },
    {
     "data": {
      "image/png": "[encoded data removed]",
      "text/plain": [
       "<PIL.Image.Image image mode=L size=352x32 at 0x24F02C9FB50>"
      ]
     },
     "metadata": {},
     "output_type": "display_data"
    },
    {
     "name": "stdout",
     "output_type": "stream",
     "text": [
      "\n",
      "Label:  cattle\n",
      "Precisions: 0.4\n",
      "Recall:  0.3333333333333333\n"
     ]
    },
    {
     "data": {
      "image/png": "[encoded data removed]",
      "text/plain": [
       "<PIL.Image.Image image mode=L size=352x32 at 0x24F02C9FF70>"
      ]
     },
     "metadata": {},
     "output_type": "display_data"
    },
    {
     "name": "stdout",
     "output_type": "stream",
     "text": [
      "\n",
      "Label:  device3\n",
      "Precisions: 0.6\n",
      "Recall:  0.42857142857142855\n"
     ]
    },
    {
     "data": {
      "image/png": "[encoded data removed]",
      "text/plain": [
       "<PIL.Image.Image image mode=L size=352x32 at 0x24F02C9FB50>"
      ]
     },
     "metadata": {},
     "output_type": "display_data"
    },
    {
     "name": "stdout",
     "output_type": "stream",
     "text": [
      "\n",
      "Label:  guitar\n",
      "Precisions: 0.1\n",
      "Recall:  0.06666666666666667\n"
     ]
    },
    {
     "data": {
      "image/png": "[encoded data removed]",
      "text/plain": [
       "<PIL.Image.Image image mode=L size=352x32 at 0x24F02C9FF70>"
      ]
     },
     "metadata": {},
     "output_type": "display_data"
    },
    {
     "name": "stdout",
     "output_type": "stream",
     "text": [
      "\n",
      "Label:  horse\n",
      "Precisions: 0.1\n",
      "Recall:  0.06666666666666667\n"
     ]
    },
    {
     "data": {
      "image/png": "[encoded data removed]",
      "text/plain": [
       "<PIL.Image.Image image mode=L size=352x32 at 0x24F02C9FD60>"
      ]
     },
     "metadata": {},
     "output_type": "display_data"
    },
    {
     "name": "stdout",
     "output_type": "stream",
     "text": [
      "\n",
      "Label:  fountain\n",
      "Precisions: 1.0\n",
      "Recall:  0.5882352941176471\n"
     ]
    },
    {
     "data": {
      "image/png": "[encoded data removed]",
      "text/plain": [
       "<PIL.Image.Image image mode=L size=352x32 at 0x24F02C9FEB0>"
      ]
     },
     "metadata": {},
     "output_type": "display_data"
    },
    {
     "name": "stdout",
     "output_type": "stream",
     "text": [
      "\n",
      "Label:  Misk\n",
      "Precisions: 1.0\n",
      "Recall:  0.6666666666666666\n"
     ]
    },
    {
     "data": {
      "image/png": "[encoded data removed]",
      "text/plain": [
       "<PIL.Image.Image image mode=L size=352x32 at 0x24F02C9FCA0>"
      ]
     },
     "metadata": {},
     "output_type": "display_data"
    },
    {
     "name": "stdout",
     "output_type": "stream",
     "text": [
      "\n",
      "Label:  flatfish\n",
      "Precisions: 1.0\n",
      "Recall:  0.7142857142857143\n"
     ]
    },
    {
     "data": {
      "image/png": "[encoded data removed]",
      "text/plain": [
       "<PIL.Image.Image image mode=L size=352x32 at 0x24F02C9FFD0>"
      ]
     },
     "metadata": {},
     "output_type": "display_data"
    },
    {
     "name": "stdout",
     "output_type": "stream",
     "text": [
      "\n",
      "Label:  key\n",
      "Precisions: 1.0\n",
      "Recall:  0.7142857142857143\n"
     ]
    },
    {
     "data": {
      "image/png": "[encoded data removed]",
      "text/plain": [
       "<PIL.Image.Image image mode=L size=352x32 at 0x24F02C9FD60>"
      ]
     },
     "metadata": {},
     "output_type": "display_data"
    },
    {
     "name": "stdout",
     "output_type": "stream",
     "text": [
      "\n",
      "Label:  flatfish\n",
      "Precisions: 1.0\n",
      "Recall:  0.7142857142857143\n"
     ]
    },
    {
     "data": {
      "image/png": "[encoded data removed]",
      "text/plain": [
       "<PIL.Image.Image image mode=L size=352x32 at 0x24F02C9FF70>"
      ]
     },
     "metadata": {},
     "output_type": "display_data"
    },
    {
     "name": "stdout",
     "output_type": "stream",
     "text": [
      "\n",
      "Label:  spring\n",
      "Precisions: 0.0\n",
      "Recall:  0.0\n"
     ]
    },
    {
     "data": {
      "image/png": "[encoded data removed]",
      "text/plain": [
       "<PIL.Image.Image image mode=L size=352x32 at 0x24F02C9FFD0>"
      ]
     },
     "metadata": {},
     "output_type": "display_data"
    },
    {
     "name": "stdout",
     "output_type": "stream",
     "text": [
      "\n",
      "Label:  pencil\n",
      "Precisions: 0.6\n",
      "Recall:  0.375\n"
     ]
    },
    {
     "data": {
      "image/png": "[encoded data removed]",
      "text/plain": [
       "<PIL.Image.Image image mode=L size=352x32 at 0x24F02C9FD60>"
      ]
     },
     "metadata": {},
     "output_type": "display_data"
    },
    {
     "name": "stdout",
     "output_type": "stream",
     "text": [
      "\n",
      "Label:  children\n",
      "Precisions: 1.0\n",
      "Recall:  0.5263157894736842\n"
     ]
    },
    {
     "data": {
      "image/png": "[encoded data removed]",
      "text/plain": [
       "<PIL.Image.Image image mode=L size=352x32 at 0x24F02C9FF70>"
      ]
     },
     "metadata": {},
     "output_type": "display_data"
    },
    {
     "name": "stdout",
     "output_type": "stream",
     "text": [
      "\n",
      "Label:  octopus\n",
      "Precisions: 0.3\n",
      "Recall:  0.23076923076923078\n"
     ]
    },
    {
     "data": {
      "image/png": "[encoded data removed]",
      "text/plain": [
       "<PIL.Image.Image image mode=L size=352x32 at 0x24F02C9FFA0>"
      ]
     },
     "metadata": {},
     "output_type": "display_data"
    },
    {
     "name": "stdout",
     "output_type": "stream",
     "text": [
      "\n",
      "Label:  watch\n",
      "Precisions: 0.4\n",
      "Recall:  0.2857142857142857\n"
     ]
    },
    {
     "data": {
      "image/png": "[encoded data removed]",
      "text/plain": [
       "<PIL.Image.Image image mode=L size=352x32 at 0x24F02C9FB50>"
      ]
     },
     "metadata": {},
     "output_type": "display_data"
    },
    {
     "name": "stdout",
     "output_type": "stream",
     "text": [
      "\n",
      "Label:  fly\n",
      "Precisions: 0.0\n",
      "Recall:  0.0\n"
     ]
    },
    {
     "data": {
      "image/png": "[encoded data removed]",
      "text/plain": [
       "<PIL.Image.Image image mode=L size=352x32 at 0x24F02C9FF70>"
      ]
     },
     "metadata": {},
     "output_type": "display_data"
    },
    {
     "name": "stdout",
     "output_type": "stream",
     "text": [
      "\n",
      "Label:  butterfly\n",
      "Precisions: 0.1\n",
      "Recall:  0.07142857142857142\n"
     ]
    },
    {
     "data": {
      "image/png": "[encoded data removed]",
      "text/plain": [
       "<PIL.Image.Image image mode=L size=352x32 at 0x24F02C9FEB0>"
      ]
     },
     "metadata": {},
     "output_type": "display_data"
    },
    {
     "name": "stdout",
     "output_type": "stream",
     "text": [
      "\n",
      "Label:  fish\n",
      "Precisions: 1.0\n",
      "Recall:  0.6666666666666666\n"
     ]
    },
    {
     "data": {
      "image/png": "[encoded data removed]",
      "text/plain": [
       "<PIL.Image.Image image mode=L size=352x32 at 0x24F02C9FF70>"
      ]
     },
     "metadata": {},
     "output_type": "display_data"
    },
    {
     "name": "stdout",
     "output_type": "stream",
     "text": [
      "\n",
      "Label:  key\n",
      "Precisions: 1.0\n",
      "Recall:  0.7142857142857143\n"
     ]
    },
    {
     "data": {
      "image/png": "[encoded data removed]",
      "text/plain": [
       "<PIL.Image.Image image mode=L size=352x32 at 0x24F02C9FEB0>"
      ]
     },
     "metadata": {},
     "output_type": "display_data"
    },
    {
     "name": "stdout",
     "output_type": "stream",
     "text": [
      "\n",
      "Label:  octopus\n",
      "Precisions: 0.1\n",
      "Recall:  0.07692307692307693\n"
     ]
    },
    {
     "data": {
      "image/png": "[encoded data removed]",
      "text/plain": [
       "<PIL.Image.Image image mode=L size=352x32 at 0x24F02C9FFD0>"
      ]
     },
     "metadata": {},
     "output_type": "display_data"
    },
    {
     "name": "stdout",
     "output_type": "stream",
     "text": [
      "\n",
      "Label:  hat\n",
      "Precisions: 0.9\n",
      "Recall:  0.6\n"
     ]
    },
    {
     "data": {
      "image/png": "[encoded data removed]",
      "text/plain": [
       "<PIL.Image.Image image mode=L size=352x32 at 0x24F02C9FCA0>"
      ]
     },
     "metadata": {},
     "output_type": "display_data"
    },
    {
     "name": "stdout",
     "output_type": "stream",
     "text": [
      "\n",
      "Label:  horse\n",
      "Precisions: 0.4\n",
      "Recall:  0.26666666666666666\n"
     ]
    },
    {
     "data": {
      "image/png": "[encoded data removed]",
      "text/plain": [
       "<PIL.Image.Image image mode=L size=352x32 at 0x24F02C9FF70>"
      ]
     },
     "metadata": {},
     "output_type": "display_data"
    },
    {
     "name": "stdout",
     "output_type": "stream",
     "text": [
      "\n",
      "Label:  bottle\n",
      "Precisions: 0.7\n",
      "Recall:  0.5\n"
     ]
    },
    {
     "data": {
      "image/png": "[encoded data removed]",
      "text/plain": [
       "<PIL.Image.Image image mode=L size=352x32 at 0x24F02C9FFD0>"
      ]
     },
     "metadata": {},
     "output_type": "display_data"
    },
    {
     "name": "stdout",
     "output_type": "stream",
     "text": [
      "\n",
      "Label:  Glas\n",
      "Precisions: 1.0\n",
      "Recall:  0.7142857142857143\n"
     ]
    },
    {
     "data": {
      "image/png": "[encoded data removed]",
      "text/plain": [
       "<PIL.Image.Image image mode=L size=352x32 at 0x24F02C9FEB0>"
      ]
     },
     "metadata": {},
     "output_type": "display_data"
    },
    {
     "name": "stdout",
     "output_type": "stream",
     "text": [
      "\n",
      "Label:  Glas\n",
      "Precisions: 1.0\n",
      "Recall:  0.7142857142857143\n"
     ]
    },
    {
     "data": {
      "image/png": "[encoded data removed]",
      "text/plain": [
       "<PIL.Image.Image image mode=L size=352x32 at 0x24F02C9FFD0>"
      ]
     },
     "metadata": {},
     "output_type": "display_data"
    },
    {
     "name": "stdout",
     "output_type": "stream",
     "text": [
      "\n",
      "Label:  bell\n",
      "Precisions: 1.0\n",
      "Recall:  0.6666666666666666\n"
     ]
    },
    {
     "data": {
      "image/png": "[encoded data removed]",
      "text/plain": [
       "<PIL.Image.Image image mode=L size=352x32 at 0x24F02C9FCA0>"
      ]
     },
     "metadata": {},
     "output_type": "display_data"
    },
    {
     "name": "stdout",
     "output_type": "stream",
     "text": [
      "\n",
      "Label:  hat\n",
      "Precisions: 0.9\n",
      "Recall:  0.6\n"
     ]
    },
    {
     "data": {
      "image/png": "[encoded data removed]",
      "text/plain": [
       "<PIL.Image.Image image mode=L size=352x32 at 0x24F02C9FB50>"
      ]
     },
     "metadata": {},
     "output_type": "display_data"
    },
    {
     "name": "stdout",
     "output_type": "stream",
     "text": [
      "\n",
      "Label:  cellular_phone\n",
      "Precisions: 0.9\n",
      "Recall:  0.6923076923076923\n"
     ]
    },
    {
     "data": {
      "image/png": "[encoded data removed]",
      "text/plain": [
       "<PIL.Image.Image image mode=L size=352x32 at 0x24F02C9FD60>"
      ]
     },
     "metadata": {},
     "output_type": "display_data"
    },
    {
     "name": "stdout",
     "output_type": "stream",
     "text": [
      "\n",
      "Label:  HCircle\n",
      "Precisions: 1.0\n",
      "Recall:  0.7142857142857143\n"
     ]
    },
    {
     "data": {
      "image/png": "[encoded data removed]",
      "text/plain": [
       "<PIL.Image.Image image mode=L size=352x32 at 0x24F02C9FF70>"
      ]
     },
     "metadata": {},
     "output_type": "display_data"
    },
    {
     "name": "stdout",
     "output_type": "stream",
     "text": [
      "\n",
      "Label:  HCircle\n",
      "Precisions: 1.0\n",
      "Recall:  0.7142857142857143\n"
     ]
    },
    {
     "data": {
      "image/png": "[encoded data removed]",
      "text/plain": [
       "<PIL.Image.Image image mode=L size=352x32 at 0x24F02C9FFA0>"
      ]
     },
     "metadata": {},
     "output_type": "display_data"
    },
    {
     "name": "stdout",
     "output_type": "stream",
     "text": [
      "\n",
      "Label:  butterfly\n",
      "Precisions: 0.3\n",
      "Recall:  0.21428571428571427\n"
     ]
    },
    {
     "data": {
      "image/png": "[encoded data removed]",
      "text/plain": [
       "<PIL.Image.Image image mode=L size=352x32 at 0x24F02C9FD60>"
      ]
     },
     "metadata": {},
     "output_type": "display_data"
    },
    {
     "name": "stdout",
     "output_type": "stream",
     "text": [
      "\n",
      "Label:  key\n",
      "Precisions: 0.9\n",
      "Recall:  0.6428571428571429\n"
     ]
    },
    {
     "data": {
      "image/png": "[encoded data removed]",
      "text/plain": [
       "<PIL.Image.Image image mode=L size=352x32 at 0x24F02C9FFD0>"
      ]
     },
     "metadata": {},
     "output_type": "display_data"
    },
    {
     "name": "stdout",
     "output_type": "stream",
     "text": [
      "\n",
      "Label:  pocket\n",
      "Precisions: 0.7\n",
      "Recall:  0.4117647058823529\n"
     ]
    },
    {
     "data": {
      "image/png": "[encoded data removed]",
      "text/plain": [
       "<PIL.Image.Image image mode=L size=352x32 at 0x24F02C9FEB0>"
      ]
     },
     "metadata": {},
     "output_type": "display_data"
    },
    {
     "name": "stdout",
     "output_type": "stream",
     "text": [
      "\n",
      "Label:  device0\n",
      "Precisions: 0.6\n",
      "Recall:  0.42857142857142855\n"
     ]
    },
    {
     "data": {
      "image/png": "[encoded data removed]",
      "text/plain": [
       "<PIL.Image.Image image mode=L size=352x32 at 0x24F02C9FF70>"
      ]
     },
     "metadata": {},
     "output_type": "display_data"
    },
    {
     "name": "stdout",
     "output_type": "stream",
     "text": [
      "\n",
      "Label:  horseshoe\n",
      "Precisions: 0.7\n",
      "Recall:  0.4666666666666667\n"
     ]
    },
    {
     "data": {
      "image/png": "[encoded data removed]",
      "text/plain": [
       "<PIL.Image.Image image mode=L size=352x32 at 0x24F02C9FEB0>"
      ]
     },
     "metadata": {},
     "output_type": "display_data"
    },
    {
     "name": "stdout",
     "output_type": "stream",
     "text": [
      "\n",
      "Label:  ray\n",
      "Precisions: 0.4\n",
      "Recall:  0.36363636363636365\n"
     ]
    },
    {
     "data": {
      "image/png": "[encoded data removed]",
      "text/plain": [
       "<PIL.Image.Image image mode=L size=352x32 at 0x24F02C9FD60>"
      ]
     },
     "metadata": {},
     "output_type": "display_data"
    },
    {
     "name": "stdout",
     "output_type": "stream",
     "text": [
      "\n",
      "Label:  octopus\n",
      "Precisions: 0.3\n",
      "Recall:  0.23076923076923078\n"
     ]
    },
    {
     "data": {
      "image/png": "[encoded data removed]",
      "text/plain": [
       "<PIL.Image.Image image mode=L size=352x32 at 0x24F02C9FCA0>"
      ]
     },
     "metadata": {},
     "output_type": "display_data"
    },
    {
     "name": "stdout",
     "output_type": "stream",
     "text": [
      "\n",
      "Label:  device9\n",
      "Precisions: 1.0\n",
      "Recall:  0.6666666666666666\n"
     ]
    },
    {
     "data": {
      "image/png": "[encoded data removed]",
      "text/plain": [
       "<PIL.Image.Image image mode=L size=352x32 at 0x24F02C9FD60>"
      ]
     },
     "metadata": {},
     "output_type": "display_data"
    },
    {
     "name": "stdout",
     "output_type": "stream",
     "text": [
      "\n",
      "Label:  cellular_phone\n",
      "Precisions: 1.0\n",
      "Recall:  0.7692307692307693\n"
     ]
    },
    {
     "data": {
      "image/png": "[encoded data removed]",
      "text/plain": [
       "<PIL.Image.Image image mode=L size=352x32 at 0x24F02C9FF70>"
      ]
     },
     "metadata": {},
     "output_type": "display_data"
    },
    {
     "name": "stdout",
     "output_type": "stream",
     "text": [
      "\n",
      "Label:  ray\n",
      "Precisions: 0.3\n",
      "Recall:  0.2727272727272727\n"
     ]
    },
    {
     "data": {
      "image/png": "[encoded data removed]",
      "text/plain": [
       "<PIL.Image.Image image mode=L size=352x32 at 0x24F02C9FCA0>"
      ]
     },
     "metadata": {},
     "output_type": "display_data"
    },
    {
     "name": "stdout",
     "output_type": "stream",
     "text": [
      "\n",
      "Label:  fork\n",
      "Precisions: 0.3\n",
      "Recall:  0.23076923076923078\n"
     ]
    },
    {
     "data": {
      "image/png": "[encoded data removed]",
      "text/plain": [
       "<PIL.Image.Image image mode=L size=352x32 at 0x24F02C9FD60>"
      ]
     },
     "metadata": {},
     "output_type": "display_data"
    },
    {
     "name": "stdout",
     "output_type": "stream",
     "text": [
      "\n",
      "Label:  bird\n",
      "Precisions: 0.0\n",
      "Recall:  0.0\n"
     ]
    },
    {
     "data": {
      "image/png": "[encoded data removed]",
      "text/plain": [
       "<PIL.Image.Image image mode=L size=352x32 at 0x24F02C9FEB0>"
      ]
     },
     "metadata": {},
     "output_type": "display_data"
    },
    {
     "name": "stdout",
     "output_type": "stream",
     "text": [
      "\n",
      "Label:  device9\n",
      "Precisions: 0.9\n",
      "Recall:  0.6\n"
     ]
    },
    {
     "data": {
      "image/png": "[encoded data removed]",
      "text/plain": [
       "<PIL.Image.Image image mode=L size=352x32 at 0x24F02C9FFD0>"
      ]
     },
     "metadata": {},
     "output_type": "display_data"
    },
    {
     "name": "stdout",
     "output_type": "stream",
     "text": [
      "\n",
      "Label:  truck\n",
      "Precisions: 1.0\n",
      "Recall:  0.6666666666666666\n"
     ]
    },
    {
     "data": {
      "image/png": "[encoded data removed]",
      "text/plain": [
       "<PIL.Image.Image image mode=L size=352x32 at 0x24F02C9FFA0>"
      ]
     },
     "metadata": {},
     "output_type": "display_data"
    },
    {
     "name": "stdout",
     "output_type": "stream",
     "text": [
      "\n",
      "Label:  bell\n",
      "Precisions: 1.0\n",
      "Recall:  0.6666666666666666\n"
     ]
    },
    {
     "data": {
      "image/png": "[encoded data removed]",
      "text/plain": [
       "<PIL.Image.Image image mode=L size=352x32 at 0x24F02C9FD60>"
      ]
     },
     "metadata": {},
     "output_type": "display_data"
    },
    {
     "name": "stdout",
     "output_type": "stream",
     "text": [
      "\n",
      "Label:  elephant\n",
      "Precisions: 0.3\n",
      "Recall:  0.17647058823529413\n"
     ]
    },
    {
     "data": {
      "image/png": "[encoded data removed]",
      "text/plain": [
       "<PIL.Image.Image image mode=L size=352x32 at 0x24F02C9FFA0>"
      ]
     },
     "metadata": {},
     "output_type": "display_data"
    },
    {
     "name": "stdout",
     "output_type": "stream",
     "text": [
      "\n",
      "Label:  chopper\n",
      "Precisions: 0.9\n",
      "Recall:  0.8181818181818182\n"
     ]
    },
    {
     "data": {
      "image/png": "[encoded data removed]",
      "text/plain": [
       "<PIL.Image.Image image mode=L size=352x32 at 0x24F02C9FFD0>"
      ]
     },
     "metadata": {},
     "output_type": "display_data"
    },
    {
     "name": "stdout",
     "output_type": "stream",
     "text": [
      "\n",
      "Label:  bird\n",
      "Precisions: 0.4\n",
      "Recall:  0.23529411764705882\n"
     ]
    },
    {
     "data": {
      "image/png": "[encoded data removed]",
      "text/plain": [
       "<PIL.Image.Image image mode=L size=352x32 at 0x24F02C9FCA0>"
      ]
     },
     "metadata": {},
     "output_type": "display_data"
    },
    {
     "name": "stdout",
     "output_type": "stream",
     "text": [
      "\n",
      "Label:  butterfly\n",
      "Precisions: 0.3\n",
      "Recall:  0.21428571428571427\n"
     ]
    },
    {
     "data": {
      "image/png": "[encoded data removed]",
      "text/plain": [
       "<PIL.Image.Image image mode=L size=352x32 at 0x24F02C9FEB0>"
      ]
     },
     "metadata": {},
     "output_type": "display_data"
    },
    {
     "name": "stdout",
     "output_type": "stream",
     "text": [
      "\n",
      "Label:  bell\n",
      "Precisions: 1.0\n",
      "Recall:  0.6666666666666666\n"
     ]
    },
    {
     "data": {
      "image/png": "[encoded data removed]",
      "text/plain": [
       "<PIL.Image.Image image mode=L size=352x32 at 0x24F02C9FFD0>"
      ]
     },
     "metadata": {},
     "output_type": "display_data"
    },
    {
     "name": "stdout",
     "output_type": "stream",
     "text": [
      "\n",
      "Label:  face\n",
      "Precisions: 0.9\n",
      "Recall:  0.5625\n"
     ]
    },
    {
     "data": {
      "image/png": "[encoded data removed]",
      "text/plain": [
       "<PIL.Image.Image image mode=L size=352x32 at 0x24F02C9FCA0>"
      ]
     },
     "metadata": {},
     "output_type": "display_data"
    },
    {
     "name": "stdout",
     "output_type": "stream",
     "text": [
      "\n",
      "Label:  hammer\n",
      "Precisions: 0.4\n",
      "Recall:  0.25\n"
     ]
    },
    {
     "data": {
      "image/png": "[encoded data removed]",
      "text/plain": [
       "<PIL.Image.Image image mode=L size=352x32 at 0x24F02C9FFA0>"
      ]
     },
     "metadata": {},
     "output_type": "display_data"
    },
    {
     "name": "stdout",
     "output_type": "stream",
     "text": [
      "\n",
      "Label:  guitar\n",
      "Precisions: 0.0\n",
      "Recall:  0.0\n"
     ]
    },
    {
     "data": {
      "image/png": "[encoded data removed]",
      "text/plain": [
       "<PIL.Image.Image image mode=L size=352x32 at 0x24F02C9FEB0>"
      ]
     },
     "metadata": {},
     "output_type": "display_data"
    },
    {
     "name": "stdout",
     "output_type": "stream",
     "text": [
      "\n",
      "Label:  truck\n",
      "Precisions: 0.8\n",
      "Recall:  0.5333333333333333\n"
     ]
    },
    {
     "data": {
      "image/png": "[encoded data removed]",
      "text/plain": [
       "<PIL.Image.Image image mode=L size=352x32 at 0x24F02C9FFD0>"
      ]
     },
     "metadata": {},
     "output_type": "display_data"
    },
    {
     "name": "stdout",
     "output_type": "stream",
     "text": [
      "\n",
      "Label:  Glas\n",
      "Precisions: 0.0\n",
      "Recall:  0.0\n"
     ]
    },
    {
     "data": {
      "image/png": "[encoded data removed]",
      "text/plain": [
       "<PIL.Image.Image image mode=L size=352x32 at 0x24F02C9FFA0>"
      ]
     },
     "metadata": {},
     "output_type": "display_data"
    },
    {
     "name": "stdout",
     "output_type": "stream",
     "text": [
      "\n",
      "Label:  guitar\n",
      "Precisions: 0.5\n",
      "Recall:  0.3333333333333333\n"
     ]
    },
    {
     "data": {
      "image/png": "[encoded data removed]",
      "text/plain": [
       "<PIL.Image.Image image mode=L size=352x32 at 0x24F02C9FFD0>"
      ]
     },
     "metadata": {},
     "output_type": "display_data"
    },
    {
     "name": "stdout",
     "output_type": "stream",
     "text": [
      "\n",
      "Label:  bottle\n",
      "Precisions: 0.7\n",
      "Recall:  0.5\n"
     ]
    },
    {
     "data": {
      "image/png": "[encoded data removed]",
      "text/plain": [
       "<PIL.Image.Image image mode=L size=352x32 at 0x24F02C9FCA0>"
      ]
     },
     "metadata": {},
     "output_type": "display_data"
    },
    {
     "name": "stdout",
     "output_type": "stream",
     "text": [
      "\n",
      "Label:  chopper\n",
      "Precisions: 1.0\n",
      "Recall:  0.9090909090909091\n"
     ]
    },
    {
     "data": {
      "image/png": "[encoded data removed]",
      "text/plain": [
       "<PIL.Image.Image image mode=L size=352x32 at 0x24F02C9FEB0>"
      ]
     },
     "metadata": {},
     "output_type": "display_data"
    },
    {
     "name": "stdout",
     "output_type": "stream",
     "text": [
      "\n",
      "Label:  fork\n",
      "Precisions: 0.4\n",
      "Recall:  0.3076923076923077\n"
     ]
    },
    {
     "data": {
      "image/png": "[encoded data removed]",
      "text/plain": [
       "<PIL.Image.Image image mode=L size=352x32 at 0x24F02C9FCA0>"
      ]
     },
     "metadata": {},
     "output_type": "display_data"
    },
    {
     "name": "stdout",
     "output_type": "stream",
     "text": [
      "\n",
      "Label:  device3\n",
      "Precisions: 0.7\n",
      "Recall:  0.5\n"
     ]
    },
    {
     "data": {
      "image/png": "[encoded data removed]",
      "text/plain": [
       "<PIL.Image.Image image mode=L size=352x32 at 0x24F02C9FEB0>"
      ]
     },
     "metadata": {},
     "output_type": "display_data"
    },
    {
     "name": "stdout",
     "output_type": "stream",
     "text": [
      "\n",
      "Label:  device5\n",
      "Precisions: 1.0\n",
      "Recall:  0.7142857142857143\n"
     ]
    },
    {
     "data": {
      "image/png": "[encoded data removed]",
      "text/plain": [
       "<PIL.Image.Image image mode=L size=352x32 at 0x24F02C9FFA0>"
      ]
     },
     "metadata": {},
     "output_type": "display_data"
    },
    {
     "name": "stdout",
     "output_type": "stream",
     "text": [
      "\n",
      "Label:  device4\n",
      "Precisions: 1.0\n",
      "Recall:  0.625\n"
     ]
    },
    {
     "data": {
      "image/png": "[encoded data removed]",
      "text/plain": [
       "<PIL.Image.Image image mode=L size=352x32 at 0x24F02C9FCA0>"
      ]
     },
     "metadata": {},
     "output_type": "display_data"
    },
    {
     "name": "stdout",
     "output_type": "stream",
     "text": [
      "\n",
      "Label:  elephant\n",
      "Precisions: 0.3\n",
      "Recall:  0.17647058823529413\n"
     ]
    },
    {
     "data": {
      "image/png": "[encoded data removed]",
      "text/plain": [
       "<PIL.Image.Image image mode=L size=352x32 at 0x24F02C9FF70>"
      ]
     },
     "metadata": {},
     "output_type": "display_data"
    },
    {
     "name": "stdout",
     "output_type": "stream",
     "text": [
      "\n",
      "Label:  key\n",
      "Precisions: 1.0\n",
      "Recall:  0.7142857142857143\n"
     ]
    },
    {
     "data": {
      "image/png": "[encoded data removed]",
      "text/plain": [
       "<PIL.Image.Image image mode=L size=352x32 at 0x24F02C9FFA0>"
      ]
     },
     "metadata": {},
     "output_type": "display_data"
    },
    {
     "name": "stdout",
     "output_type": "stream",
     "text": [
      "\n",
      "Label:  lizzard\n",
      "Precisions: 0.1\n",
      "Recall:  0.0625\n"
     ]
    },
    {
     "data": {
      "image/png": "[encoded data removed]",
      "text/plain": [
       "<PIL.Image.Image image mode=L size=352x32 at 0x24F02C9FF70>"
      ]
     },
     "metadata": {},
     "output_type": "display_data"
    },
    {
     "name": "stdout",
     "output_type": "stream",
     "text": [
      "\n",
      "Label:  device0\n",
      "Precisions: 0.6\n",
      "Recall:  0.42857142857142855\n"
     ]
    },
    {
     "data": {
      "image/png": "[encoded data removed]",
      "text/plain": [
       "<PIL.Image.Image image mode=L size=352x32 at 0x24F02C9FD60>"
      ]
     },
     "metadata": {},
     "output_type": "display_data"
    },
    {
     "name": "stdout",
     "output_type": "stream",
     "text": [
      "\n",
      "Label:  horseshoe\n",
      "Precisions: 0.6\n",
      "Recall:  0.4\n"
     ]
    },
    {
     "data": {
      "image/png": "[encoded data removed]",
      "text/plain": [
       "<PIL.Image.Image image mode=L size=352x32 at 0x24F02C9FFD0>"
      ]
     },
     "metadata": {},
     "output_type": "display_data"
    },
    {
     "name": "stdout",
     "output_type": "stream",
     "text": [
      "\n",
      "Label:  HCircle\n",
      "Precisions: 1.0\n",
      "Recall:  0.7142857142857143\n"
     ]
    },
    {
     "data": {
      "image/png": "[encoded data removed]",
      "text/plain": [
       "<PIL.Image.Image image mode=L size=352x32 at 0x24F02C9FD60>"
      ]
     },
     "metadata": {},
     "output_type": "display_data"
    },
    {
     "name": "stdout",
     "output_type": "stream",
     "text": [
      "\n",
      "Label:  fountain\n",
      "Precisions: 1.0\n",
      "Recall:  0.5882352941176471\n"
     ]
    },
    {
     "data": {
      "image/png": "[encoded data removed]",
      "text/plain": [
       "<PIL.Image.Image image mode=L size=352x32 at 0x24F02C9FFD0>"
      ]
     },
     "metadata": {},
     "output_type": "display_data"
    },
    {
     "name": "stdout",
     "output_type": "stream",
     "text": [
      "\n",
      "Label:  device4\n",
      "Precisions: 1.0\n",
      "Recall:  0.625\n"
     ]
    },
    {
     "data": {
      "image/png": "[encoded data removed]",
      "text/plain": [
       "<PIL.Image.Image image mode=L size=352x32 at 0x24F02C9FF70>"
      ]
     },
     "metadata": {},
     "output_type": "display_data"
    },
    {
     "name": "stdout",
     "output_type": "stream",
     "text": [
      "\n",
      "Label:  chopper\n",
      "Precisions: 1.0\n",
      "Recall:  0.9090909090909091\n"
     ]
    },
    {
     "data": {
      "image/png": "[encoded data removed]",
      "text/plain": [
       "<PIL.Image.Image image mode=L size=352x32 at 0x24F02C9FD60>"
      ]
     },
     "metadata": {},
     "output_type": "display_data"
    },
    {
     "name": "stdout",
     "output_type": "stream",
     "text": [
      "\n",
      "Label:  horse\n",
      "Precisions: 0.3\n",
      "Recall:  0.2\n"
     ]
    },
    {
     "data": {
      "image/png": "[encoded data removed]",
      "text/plain": [
       "<PIL.Image.Image image mode=L size=352x32 at 0x24F02C9FFA0>"
      ]
     },
     "metadata": {},
     "output_type": "display_data"
    },
    {
     "name": "stdout",
     "output_type": "stream",
     "text": [
      "\n",
      "Label:  device8\n",
      "Precisions: 1.0\n",
      "Recall:  0.625\n"
     ]
    },
    {
     "data": {
      "image/png": "[encoded data removed]",
      "text/plain": [
       "<PIL.Image.Image image mode=L size=352x32 at 0x24F02C9FFD0>"
      ]
     },
     "metadata": {},
     "output_type": "display_data"
    },
    {
     "name": "stdout",
     "output_type": "stream",
     "text": [
      "\n",
      "Label:  cellular_phone\n",
      "Precisions: 1.0\n",
      "Recall:  0.7692307692307693\n"
     ]
    },
    {
     "data": {
      "image/png": "[encoded data removed]",
      "text/plain": [
       "<PIL.Image.Image image mode=L size=352x32 at 0x24F02C9FEB0>"
      ]
     },
     "metadata": {},
     "output_type": "display_data"
    },
    {
     "name": "stdout",
     "output_type": "stream",
     "text": [
      "\n",
      "Label:  cellular_phone\n",
      "Precisions: 1.0\n",
      "Recall:  0.7692307692307693\n"
     ]
    },
    {
     "data": {
      "image/png": "[encoded data removed]",
      "text/plain": [
       "<PIL.Image.Image image mode=L size=352x32 at 0x24F02C9FFD0>"
      ]
     },
     "metadata": {},
     "output_type": "display_data"
    },
    {
     "data": {
      "text/plain": [
       "([0.1,\n",
       "  0.9,\n",
       "  1.0,\n",
       "  0.2,\n",
       "  1.0,\n",
       "  0.4,\n",
       "  0.0,\n",
       "  0.3,\n",
       "  0.3,\n",
       "  1.0,\n",
       "  1.0,\n",
       "  0.9,\n",
       "  0.7,\n",
       "  1.0,\n",
       "  1.0,\n",
       "  0.6,\n",
       "  1.0,\n",
       "  1.0,\n",
       "  0.9,\n",
       "  1.0,\n",
       "  0.9,\n",
       "  1.0,\n",
       "  1.0,\n",
       "  1.0,\n",
       "  0.1,\n",
       "  0.0,\n",
       "  0.4,\n",
       "  0.6,\n",
       "  0.1,\n",
       "  0.1,\n",
       "  1.0,\n",
       "  1.0,\n",
       "  1.0,\n",
       "  1.0,\n",
       "  1.0,\n",
       "  0.0,\n",
       "  0.6,\n",
       "  1.0,\n",
       "  0.3,\n",
       "  0.4,\n",
       "  0.0,\n",
       "  0.1,\n",
       "  1.0,\n",
       "  1.0,\n",
       "  0.1,\n",
       "  0.9,\n",
       "  0.4,\n",
       "  0.7,\n",
       "  1.0,\n",
       "  1.0,\n",
       "  1.0,\n",
       "  0.9,\n",
       "  0.9,\n",
       "  1.0,\n",
       "  1.0,\n",
       "  0.3,\n",
       "  0.9,\n",
       "  0.7,\n",
       "  0.6,\n",
       "  0.7,\n",
       "  0.4,\n",
       "  0.3,\n",
       "  1.0,\n",
       "  1.0,\n",
       "  0.3,\n",
       "  0.3,\n",
       "  0.0,\n",
       "  0.9,\n",
       "  1.0,\n",
       "  1.0,\n",
       "  0.3,\n",
       "  0.9,\n",
       "  0.4,\n",
       "  0.3,\n",
       "  1.0,\n",
       "  0.9,\n",
       "  0.4,\n",
       "  0.0,\n",
       "  0.8,\n",
       "  0.0,\n",
       "  0.5,\n",
       "  0.7,\n",
       "  1.0,\n",
       "  0.4,\n",
       "  0.7,\n",
       "  1.0,\n",
       "  1.0,\n",
       "  0.3,\n",
       "  1.0,\n",
       "  0.1,\n",
       "  0.6,\n",
       "  0.6,\n",
       "  1.0,\n",
       "  1.0,\n",
       "  1.0,\n",
       "  1.0,\n",
       "  0.3,\n",
       "  1.0,\n",
       "  1.0,\n",
       "  1.0,\n",
       "  1.0,\n",
       "  0.7,\n",
       "  0.3,\n",
       "  0.9,\n",
       "  0.7,\n",
       "  1.0,\n",
       "  0.9,\n",
       "  0.1,\n",
       "  1.0,\n",
       "  0.9,\n",
       "  0.4,\n",
       "  0.0,\n",
       "  0.8,\n",
       "  1.0,\n",
       "  0.3,\n",
       "  0.0,\n",
       "  1.0,\n",
       "  0.7,\n",
       "  0.6,\n",
       "  1.0,\n",
       "  0.4,\n",
       "  0.8,\n",
       "  0.6,\n",
       "  0.7,\n",
       "  0.7,\n",
       "  0.9,\n",
       "  0.0,\n",
       "  0.6,\n",
       "  1.0,\n",
       "  1.0,\n",
       "  0.9,\n",
       "  0.5,\n",
       "  0.3,\n",
       "  0.4,\n",
       "  1.0,\n",
       "  1.0,\n",
       "  0.3,\n",
       "  0.6,\n",
       "  1.0,\n",
       "  0.6,\n",
       "  0.5,\n",
       "  0.3,\n",
       "  0.2,\n",
       "  1.0,\n",
       "  1.0,\n",
       "  0.7,\n",
       "  0.4,\n",
       "  0.2,\n",
       "  0.5,\n",
       "  0.1,\n",
       "  0.3,\n",
       "  0.3,\n",
       "  1.0,\n",
       "  1.0,\n",
       "  0.3,\n",
       "  0.3,\n",
       "  0.7,\n",
       "  1.0,\n",
       "  0.4,\n",
       "  0.6,\n",
       "  0.0,\n",
       "  1.0,\n",
       "  0.3,\n",
       "  0.8,\n",
       "  0.3,\n",
       "  0.5,\n",
       "  0.3,\n",
       "  0.6,\n",
       "  0.8,\n",
       "  1.0,\n",
       "  0.7,\n",
       "  0.1,\n",
       "  0.2,\n",
       "  1.0,\n",
       "  0.9,\n",
       "  1.0,\n",
       "  1.0,\n",
       "  0.9,\n",
       "  0.1,\n",
       "  1.0,\n",
       "  0.6,\n",
       "  0.6,\n",
       "  0.1,\n",
       "  0.6,\n",
       "  1.0,\n",
       "  0.6,\n",
       "  1.0,\n",
       "  0.6,\n",
       "  0.4,\n",
       "  1.0,\n",
       "  0.9,\n",
       "  0.2,\n",
       "  1.0,\n",
       "  1.0,\n",
       "  0.1,\n",
       "  0.1,\n",
       "  0.3,\n",
       "  0.9,\n",
       "  1.0,\n",
       "  0.2,\n",
       "  0.1,\n",
       "  0.2,\n",
       "  0.6,\n",
       "  0.4,\n",
       "  0.7,\n",
       "  0.5,\n",
       "  0.2,\n",
       "  0.6,\n",
       "  0.0,\n",
       "  0.2,\n",
       "  0.8,\n",
       "  0.8,\n",
       "  0.8,\n",
       "  0.2,\n",
       "  0.1,\n",
       "  1.0,\n",
       "  0.6,\n",
       "  0.0,\n",
       "  0.1,\n",
       "  0.3,\n",
       "  0.9,\n",
       "  0.7,\n",
       "  0.0,\n",
       "  0.2,\n",
       "  0.3,\n",
       "  0.7,\n",
       "  1.0,\n",
       "  0.9,\n",
       "  0.8,\n",
       "  0.4,\n",
       "  0.1,\n",
       "  0.4,\n",
       "  1.0,\n",
       "  0.2,\n",
       "  0.9,\n",
       "  1.0,\n",
       "  0.4,\n",
       "  0.3,\n",
       "  1.0,\n",
       "  1.0,\n",
       "  0.8,\n",
       "  1.0,\n",
       "  1.0,\n",
       "  1.0,\n",
       "  0.7,\n",
       "  0.0,\n",
       "  0.2,\n",
       "  1.0,\n",
       "  0.6,\n",
       "  1.0,\n",
       "  0.5,\n",
       "  0.2,\n",
       "  0.5,\n",
       "  0.0,\n",
       "  0.7,\n",
       "  0.8,\n",
       "  1.0,\n",
       "  1.0,\n",
       "  0.7,\n",
       "  1.0,\n",
       "  0.9,\n",
       "  0.0,\n",
       "  0.0,\n",
       "  1.0,\n",
       "  1.0,\n",
       "  0.4,\n",
       "  1.0,\n",
       "  0.0,\n",
       "  0.4,\n",
       "  1.0,\n",
       "  0.4,\n",
       "  0.5,\n",
       "  0.0,\n",
       "  1.0,\n",
       "  0.4,\n",
       "  0.1,\n",
       "  1.0,\n",
       "  1.0,\n",
       "  0.1,\n",
       "  0.1,\n",
       "  1.0],\n",
       " [0.07692307692307693,\n",
       "  0.6,\n",
       "  0.7142857142857143,\n",
       "  0.125,\n",
       "  0.6666666666666666,\n",
       "  0.3333333333333333,\n",
       "  0.0,\n",
       "  0.2,\n",
       "  0.25,\n",
       "  0.5882352941176471,\n",
       "  0.6666666666666666,\n",
       "  0.5625,\n",
       "  0.4117647058823529,\n",
       "  0.7142857142857143,\n",
       "  0.7142857142857143,\n",
       "  0.4,\n",
       "  0.5555555555555556,\n",
       "  0.7142857142857143,\n",
       "  0.8181818181818182,\n",
       "  0.5555555555555556,\n",
       "  0.5625,\n",
       "  0.7142857142857143,\n",
       "  0.7142857142857143,\n",
       "  0.5555555555555556,\n",
       "  0.058823529411764705,\n",
       "  0.0,\n",
       "  0.3333333333333333,\n",
       "  0.42857142857142855,\n",
       "  0.06666666666666667,\n",
       "  0.06666666666666667,\n",
       "  0.5882352941176471,\n",
       "  0.6666666666666666,\n",
       "  0.7142857142857143,\n",
       "  0.7142857142857143,\n",
       "  0.7142857142857143,\n",
       "  0.0,\n",
       "  0.375,\n",
       "  0.5263157894736842,\n",
       "  0.23076923076923078,\n",
       "  0.2857142857142857,\n",
       "  0.0,\n",
       "  0.07142857142857142,\n",
       "  0.6666666666666666,\n",
       "  0.7142857142857143,\n",
       "  0.07692307692307693,\n",
       "  0.6,\n",
       "  0.26666666666666666,\n",
       "  0.5,\n",
       "  0.7142857142857143,\n",
       "  0.7142857142857143,\n",
       "  0.6666666666666666,\n",
       "  0.6,\n",
       "  0.6923076923076923,\n",
       "  0.7142857142857143,\n",
       "  0.7142857142857143,\n",
       "  0.21428571428571427,\n",
       "  0.6428571428571429,\n",
       "  0.4117647058823529,\n",
       "  0.42857142857142855,\n",
       "  0.4666666666666667,\n",
       "  0.36363636363636365,\n",
       "  0.23076923076923078,\n",
       "  0.6666666666666666,\n",
       "  0.7692307692307693,\n",
       "  0.2727272727272727,\n",
       "  0.23076923076923078,\n",
       "  0.0,\n",
       "  0.6,\n",
       "  0.6666666666666666,\n",
       "  0.6666666666666666,\n",
       "  0.17647058823529413,\n",
       "  0.8181818181818182,\n",
       "  0.23529411764705882,\n",
       "  0.21428571428571427,\n",
       "  0.6666666666666666,\n",
       "  0.5625,\n",
       "  0.25,\n",
       "  0.0,\n",
       "  0.5333333333333333,\n",
       "  0.0,\n",
       "  0.3333333333333333,\n",
       "  0.5,\n",
       "  0.9090909090909091,\n",
       "  0.3076923076923077,\n",
       "  0.5,\n",
       "  0.7142857142857143,\n",
       "  0.625,\n",
       "  0.17647058823529413,\n",
       "  0.7142857142857143,\n",
       "  0.0625,\n",
       "  0.42857142857142855,\n",
       "  0.4,\n",
       "  0.7142857142857143,\n",
       "  0.5882352941176471,\n",
       "  0.625,\n",
       "  0.9090909090909091,\n",
       "  0.2,\n",
       "  0.625,\n",
       "  0.7692307692307693,\n",
       "  0.7692307692307693,\n",
       "  0.6666666666666666,\n",
       "  0.5,\n",
       "  0.25,\n",
       "  0.5625,\n",
       "  0.5384615384615384,\n",
       "  0.5555555555555556,\n",
       "  0.8181818181818182,\n",
       "  0.0625,\n",
       "  0.7142857142857143,\n",
       "  0.5294117647058824,\n",
       "  0.36363636363636365,\n",
       "  0.0,\n",
       "  0.5,\n",
       "  0.6666666666666666,\n",
       "  0.1875,\n",
       "  0.0,\n",
       "  0.6666666666666666,\n",
       "  0.5,\n",
       "  0.35294117647058826,\n",
       "  0.7142857142857143,\n",
       "  0.26666666666666666,\n",
       "  0.47058823529411764,\n",
       "  0.5,\n",
       "  0.5,\n",
       "  0.5,\n",
       "  0.5625,\n",
       "  0.0,\n",
       "  0.4,\n",
       "  0.7142857142857143,\n",
       "  0.5263157894736842,\n",
       "  0.8181818181818182,\n",
       "  0.3125,\n",
       "  0.1875,\n",
       "  0.23529411764705882,\n",
       "  0.5555555555555556,\n",
       "  0.6666666666666666,\n",
       "  0.2,\n",
       "  0.35294117647058826,\n",
       "  0.625,\n",
       "  0.42857142857142855,\n",
       "  0.3333333333333333,\n",
       "  0.16666666666666666,\n",
       "  0.14285714285714285,\n",
       "  0.5882352941176471,\n",
       "  0.625,\n",
       "  0.4117647058823529,\n",
       "  0.2222222222222222,\n",
       "  0.125,\n",
       "  0.45454545454545453,\n",
       "  0.058823529411764705,\n",
       "  0.1875,\n",
       "  0.17647058823529413,\n",
       "  0.7142857142857143,\n",
       "  0.625,\n",
       "  0.15789473684210525,\n",
       "  0.23076923076923078,\n",
       "  0.4117647058823529,\n",
       "  0.7142857142857143,\n",
       "  0.26666666666666666,\n",
       "  0.42857142857142855,\n",
       "  0.0,\n",
       "  0.7142857142857143,\n",
       "  0.1875,\n",
       "  0.5714285714285714,\n",
       "  0.2,\n",
       "  0.2777777777777778,\n",
       "  0.1875,\n",
       "  0.4,\n",
       "  0.4444444444444444,\n",
       "  0.7142857142857143,\n",
       "  0.5384615384615384,\n",
       "  0.0625,\n",
       "  0.125,\n",
       "  0.6666666666666666,\n",
       "  0.6,\n",
       "  0.625,\n",
       "  0.6666666666666666,\n",
       "  0.5625,\n",
       "  0.0625,\n",
       "  0.5882352941176471,\n",
       "  0.4,\n",
       "  0.4,\n",
       "  0.05263157894736842,\n",
       "  0.4,\n",
       "  0.5555555555555556,\n",
       "  0.375,\n",
       "  0.7692307692307693,\n",
       "  0.5,\n",
       "  0.25,\n",
       "  0.7692307692307693,\n",
       "  0.6,\n",
       "  0.18181818181818182,\n",
       "  0.5555555555555556,\n",
       "  0.5555555555555556,\n",
       "  0.0625,\n",
       "  0.07692307692307693,\n",
       "  0.25,\n",
       "  0.5625,\n",
       "  0.6666666666666666,\n",
       "  0.18181818181818182,\n",
       "  0.0625,\n",
       "  0.18181818181818182,\n",
       "  0.3333333333333333,\n",
       "  0.25,\n",
       "  0.4117647058823529,\n",
       "  0.3333333333333333,\n",
       "  0.125,\n",
       "  0.4,\n",
       "  0.0,\n",
       "  0.125,\n",
       "  0.5714285714285714,\n",
       "  0.5333333333333333,\n",
       "  0.5333333333333333,\n",
       "  0.11764705882352941,\n",
       "  0.0625,\n",
       "  0.6666666666666666,\n",
       "  0.35294117647058826,\n",
       "  0.0,\n",
       "  0.07692307692307693,\n",
       "  0.16666666666666666,\n",
       "  0.6,\n",
       "  0.3888888888888889,\n",
       "  0.0,\n",
       "  0.18181818181818182,\n",
       "  0.2,\n",
       "  0.5,\n",
       "  0.625,\n",
       "  0.5625,\n",
       "  0.47058823529411764,\n",
       "  0.2857142857142857,\n",
       "  0.0625,\n",
       "  0.36363636363636365,\n",
       "  0.7142857142857143,\n",
       "  0.11764705882352941,\n",
       "  0.6,\n",
       "  0.7142857142857143,\n",
       "  0.25,\n",
       "  0.16666666666666666,\n",
       "  0.625,\n",
       "  0.5555555555555556,\n",
       "  0.5714285714285714,\n",
       "  0.5555555555555556,\n",
       "  0.5882352941176471,\n",
       "  0.5555555555555556,\n",
       "  0.5,\n",
       "  0.0,\n",
       "  0.14285714285714285,\n",
       "  0.5882352941176471,\n",
       "  0.35294117647058826,\n",
       "  0.9090909090909091,\n",
       "  0.35714285714285715,\n",
       "  0.125,\n",
       "  0.35714285714285715,\n",
       "  0.0,\n",
       "  0.5,\n",
       "  0.4444444444444444,\n",
       "  0.9090909090909091,\n",
       "  0.5555555555555556,\n",
       "  0.5,\n",
       "  0.6666666666666666,\n",
       "  0.6,\n",
       "  0.0,\n",
       "  0.0,\n",
       "  0.9090909090909091,\n",
       "  0.6666666666666666,\n",
       "  0.25,\n",
       "  0.7142857142857143,\n",
       "  0.0,\n",
       "  0.23529411764705882,\n",
       "  0.6666666666666666,\n",
       "  0.23529411764705882,\n",
       "  0.38461538461538464,\n",
       "  0.0,\n",
       "  0.6666666666666666,\n",
       "  0.2857142857142857,\n",
       "  0.08333333333333333,\n",
       "  0.6666666666666666,\n",
       "  0.7692307692307693,\n",
       "  0.0625,\n",
       "  0.06666666666666667,\n",
       "  0.625])"
      ]
     },
     "execution_count": 41,
     "metadata": {},
     "output_type": "execute_result"
    }
   ],
   "source": [
    "sort_by_distance(X_train, X_test, train_names, test_names, image_display_num=100, k=10)"
   ]
  },
  {
   "cell_type": "code",
   "execution_count": 20,
   "metadata": {},
   "outputs": [
    {
     "name": "stdout",
     "output_type": "stream",
     "text": [
      "Threshold: 0.0 mAP: 0.62\n",
      "Threshold: 0.1 mAP: 0.69\n",
      "Threshold: 0.2 mAP: 0.73\n",
      "Threshold: 0.3 mAP: 0.77\n",
      "Threshold: 0.4 mAP: 0.81\n",
      "Threshold: 0.5 mAP: 0.84\n",
      "Threshold: 0.6 mAP: 0.88\n",
      "Threshold: 0.7 mAP: 0.92\n",
      "Threshold: 0.8 mAP: 0.95\n",
      "Threshold: 0.9 mAP: 0.98\n",
      "\n",
      "Overall mAP for k=1 to 20: 0.8193\n"
     ]
    }
   ],
   "source": [
    "raw_distance_mAP = np.average(averages)\n",
    "for threshold, avg in zip(labels, averages):\n",
    "    print(\"Threshold: {0} mAP: {1:.2f}\".format(threshold, avg))\n",
    "print(\"\\nOverall mAP for k={0} to {1}: {2:.4f}\".format(K_START_RANGE, K_END_RANGE, raw_distance_mAP))"
   ]
  },
  {
   "cell_type": "code",
   "execution_count": 17,
   "metadata": {},
   "outputs": [
    {
     "name": "stdout",
     "output_type": "stream",
     "text": [
      "Stored 'raw_distance_averages' (list)\n",
      "Stored 'raw_distance_mAP' (float64)\n",
      "Stored 'labels' (list)\n"
     ]
    }
   ],
   "source": [
    "# Rename and Store Variables to be Presented in Different Notebook\n",
    "raw_distance_averages = averages\n",
    "%store raw_distance_averages\n",
    "%store raw_distance_mAP\n",
    "%store labels"
   ]
  },
  {
   "cell_type": "code",
   "execution_count": 18,
   "metadata": {},
   "outputs": [],
   "source": [
    "dill.dump_session(\"Pixel_Value_Raw_Distance.db\")"
   ]
  }
 ],
 "metadata": {
  "kernelspec": {
   "display_name": "Python 3",
   "language": "python",
   "name": "python3"
  },
  "language_info": {
   "codemirror_mode": {
    "name": "ipython",
    "version": 3
   },
   "file_extension": ".py",
   "mimetype": "text/x-python",
   "name": "python",
   "nbconvert_exporter": "python",
   "pygments_lexer": "ipython3",
   "version": "3.8.5"
  }
 },
 "nbformat": 4,
 "nbformat_minor": 4
}
